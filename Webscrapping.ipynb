{
  "cells": [
    {
      "cell_type": "markdown",
      "metadata": {
        "id": "view-in-github",
        "colab_type": "text"
      },
      "source": [
        "<a href=\"https://colab.research.google.com/github/SulemanShahani/Sentiment-Analysis-of-Climate-Change-Discourse-on-Wikipedia/blob/main/Webscrapping.ipynb\" target=\"_parent\"><img src=\"https://colab.research.google.com/assets/colab-badge.svg\" alt=\"Open In Colab\"/></a>"
      ]
    },
    {
      "cell_type": "code",
      "execution_count": 12,
      "metadata": {
        "id": "8sUERbeTASnn"
      },
      "outputs": [],
      "source": [
        "# -*- coding: utf-8 -*-\n",
        "#The # -*- coding: utf-8 -*- line is a declaration that specifies the encoding of the Python source file as UTF-8\n",
        "#ensuring correct interpretation of non-ASCII characters and improving compatibility across different environments and text editors.\n",
        "\n",
        "import nltk\n",
        "import urllib.request\n",
        "import bs4 as bs\n",
        "import re\n",
        "from nltk.corpus import stopwords\n",
        "from collections import Counter\n",
        "from nltk.sentiment.vader import SentimentIntensityAnalyzer\n",
        "\n",
        "\n",
        "\n",
        "\n",
        "\n",
        "\n"
      ]
    },
    {
      "cell_type": "code",
      "source": [
        "# Download required NLTK data\n",
        "nltk.download('stopwords')\n",
        "nltk.download('punkt')\n",
        "nltk.download('vader_lexicon')"
      ],
      "metadata": {
        "colab": {
          "base_uri": "https://localhost:8080/"
        },
        "id": "6Hms7ChzEZPb",
        "outputId": "994ed6ff-8580-4c3a-e44b-fbcb42af6b68"
      },
      "execution_count": 13,
      "outputs": [
        {
          "output_type": "stream",
          "name": "stderr",
          "text": [
            "[nltk_data] Downloading package stopwords to /root/nltk_data...\n",
            "[nltk_data]   Unzipping corpora/stopwords.zip.\n",
            "[nltk_data] Downloading package punkt to /root/nltk_data...\n",
            "[nltk_data]   Unzipping tokenizers/punkt.zip.\n",
            "[nltk_data] Downloading package vader_lexicon to /root/nltk_data...\n"
          ]
        },
        {
          "output_type": "execute_result",
          "data": {
            "text/plain": [
              "True"
            ]
          },
          "metadata": {},
          "execution_count": 13
        }
      ]
    },
    {
      "cell_type": "code",
      "source": [
        "\n",
        "# Fetching the data source\n",
        "source = urllib.request.urlopen('https://en.wikipedia.org/wiki/Climate_change').read()\n",
        "\n",
        "# Parsing the data/creating BeautifulSoup object\n",
        "soup = bs.BeautifulSoup(source, 'lxml')\n",
        "\n",
        "# Fetching the data\n",
        "text = \"\"\n",
        "for paragraph in soup.find_all('p'):\n",
        "    text += paragraph.text"
      ],
      "metadata": {
        "id": "gIeS4gOYE6xN"
      },
      "execution_count": 14,
      "outputs": []
    },
    {
      "cell_type": "code",
      "source": [
        "# Preprocessing the data\n",
        "text = re.sub(r'\\[[0-9]*\\]', ' ', text)  # Remove reference numbers\n",
        "text = re.sub(r'\\s+', ' ', text)         # Remove extra whitespace\n",
        "text = text.lower()                      # Convert text to lowercase\n",
        "text = re.sub(r'\\d', ' ', text)          # Remove digits\n",
        "text = re.sub(r'\\s+', ' ', text)         # Remove extra whitespace again\n"
      ],
      "metadata": {
        "id": "s74_KZGbE7oY"
      },
      "execution_count": 15,
      "outputs": []
    },
    {
      "cell_type": "code",
      "source": [
        "# Tokenizing the text\n",
        "sentences = nltk.sent_tokenize(text)\n",
        "\n",
        "# Perform sentiment analysis\n",
        "sid = SentimentIntensityAnalyzer()\n",
        "sentiments = [sid.polarity_scores(sentence) for sentence in sentences]\n"
      ],
      "metadata": {
        "id": "qSAoxDGOE7qn"
      },
      "execution_count": 16,
      "outputs": []
    },
    {
      "cell_type": "code",
      "source": [
        "# Aggregate sentiment scores\n",
        "aggregate_sentiment = {\n",
        "    'neg': 0,\n",
        "    'neu': 0,\n",
        "    'pos': 0,\n",
        "    'compound': 0\n",
        "}\n",
        "\n",
        "for sentiment in sentiments:\n",
        "    for key in aggregate_sentiment:\n",
        "        aggregate_sentiment[key] += sentiment[key]\n",
        "\n"
      ],
      "metadata": {
        "id": "2v39vZLZE7tB"
      },
      "execution_count": 17,
      "outputs": []
    },
    {
      "cell_type": "code",
      "source": [
        "# Normalize the sentiment scores by the number of sentences\n",
        "num_sentences = len(sentiments)\n",
        "for key in aggregate_sentiment:\n",
        "    aggregate_sentiment[key] /= num_sentences\n",
        "\n",
        "\n"
      ],
      "metadata": {
        "id": "DKe8dfSjE7wR"
      },
      "execution_count": 18,
      "outputs": []
    },
    {
      "cell_type": "code",
      "source": [
        "print(\"Aggregated Sentiment Scores:\")\n",
        "print(f\"Negative: {aggregate_sentiment['neg']:.2f}\")\n",
        "print(f\"Neutral: {aggregate_sentiment['neu']:.2f}\")\n",
        "print(f\"Positive: {aggregate_sentiment['pos']:.2f}\")\n",
        "print(f\"Compound: {aggregate_sentiment['compound']:.2f}\")"
      ],
      "metadata": {
        "colab": {
          "base_uri": "https://localhost:8080/"
        },
        "id": "-Zwb9r2sFOJP",
        "outputId": "35d0aa60-6b13-45ef-ef99-8fcef75e90af"
      },
      "execution_count": 19,
      "outputs": [
        {
          "output_type": "stream",
          "name": "stdout",
          "text": [
            "Aggregated Sentiment Scores:\n",
            "Negative: 0.05\n",
            "Neutral: 0.85\n",
            "Positive: 0.09\n",
            "Compound: 0.09\n"
          ]
        }
      ]
    },
    {
      "cell_type": "code",
      "source": [],
      "metadata": {
        "id": "qOKBjEgEFyUR"
      },
      "execution_count": 11,
      "outputs": []
    }
  ],
  "metadata": {
    "colab": {
      "provenance": [],
      "authorship_tag": "ABX9TyMJQoIXQVp76TezUDFp8B2F",
      "include_colab_link": true
    },
    "kernelspec": {
      "display_name": "Python 3",
      "name": "python3"
    },
    "language_info": {
      "name": "python"
    }
  },
  "nbformat": 4,
  "nbformat_minor": 0
}